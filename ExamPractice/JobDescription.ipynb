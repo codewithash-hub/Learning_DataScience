{
 "cells": [
  {
   "cell_type": "code",
   "execution_count": 1,
   "metadata": {},
   "outputs": [],
   "source": [
    "import requests \n",
    "from bs4 import BeautifulSoup\n",
    "from sklearn.feature_extraction.text import CountVectorizer"
   ]
  },
  {
   "cell_type": "code",
   "execution_count": 2,
   "metadata": {},
   "outputs": [],
   "source": [
    "text = []\n",
    "\n",
    "for index in range(0, 1000, 10):\n",
    "    page = 'https://indeed.com/jobs?q=data+scientist&start=?'\n",
    "    web_results = requests.get(page).text\n",
    "\n",
    "    soup = BeautifulSoup(web_results)\n",
    "\n",
    "    for listing in soup.findAll('span', {'class': 'Summary'}):\n",
    "        text.append(listing)"
   ]
  },
  {
   "cell_type": "code",
   "execution_count": 8,
   "metadata": {},
   "outputs": [
    {
     "ename": "NameError",
     "evalue": "name 'CountVectorizer' is not defined",
     "output_type": "error",
     "traceback": [
      "\u001b[1;31m---------------------------------------------------------------------------\u001b[0m",
      "\u001b[1;31mNameError\u001b[0m                                 Traceback (most recent call last)",
      "\u001b[1;32mc:\\Users\\Munyai NR\\.vscode\\codes\\Python\\Learning_DataScience\\ExamPractice\\JobDescription.ipynb Cell 3\u001b[0m line \u001b[0;36m4\n\u001b[0;32m      <a href='vscode-notebook-cell:/c%3A/Users/Munyai%20NR/.vscode/codes/Python/Learning_DataScience/ExamPractice/JobDescription.ipynb#W2sZmlsZQ%3D%3D?line=0'>1</a>\u001b[0m text \u001b[39m=\u001b[39m []\n\u001b[0;32m      <a href='vscode-notebook-cell:/c%3A/Users/Munyai%20NR/.vscode/codes/Python/Learning_DataScience/ExamPractice/JobDescription.ipynb#W2sZmlsZQ%3D%3D?line=2'>3</a>\u001b[0m \u001b[39mtype\u001b[39m(text) \u001b[39m# == list \u001b[39;00m\n\u001b[1;32m----> <a href='vscode-notebook-cell:/c%3A/Users/Munyai%20NR/.vscode/codes/Python/Learning_DataScience/ExamPractice/JobDescription.ipynb#W2sZmlsZQ%3D%3D?line=3'>4</a>\u001b[0m vect \u001b[39m=\u001b[39m CountVectorizer(ngram_range\u001b[39m=\u001b[39m(\u001b[39m1\u001b[39m,\u001b[39m2\u001b[39m), stop_words\u001b[39m=\u001b[39m\u001b[39m'\u001b[39m\u001b[39menglish\u001b[39m\u001b[39m'\u001b[39m)\n\u001b[0;32m      <a href='vscode-notebook-cell:/c%3A/Users/Munyai%20NR/.vscode/codes/Python/Learning_DataScience/ExamPractice/JobDescription.ipynb#W2sZmlsZQ%3D%3D?line=4'>5</a>\u001b[0m \u001b[39m# Get basic counts of one and two word phrases \u001b[39;00m\n\u001b[0;32m      <a href='vscode-notebook-cell:/c%3A/Users/Munyai%20NR/.vscode/codes/Python/Learning_DataScience/ExamPractice/JobDescription.ipynb#W2sZmlsZQ%3D%3D?line=5'>6</a>\u001b[0m matrix \u001b[39m=\u001b[39m vect\u001b[39m.\u001b[39mfit_transform(text) \n",
      "\u001b[1;31mNameError\u001b[0m: name 'CountVectorizer' is not defined"
     ]
    }
   ],
   "source": [
    "type(text) # == list \n",
    "vect = CountVectorizer(ngram_range=(1,2), stop_words='english')\n",
    "# Get basic counts of one and two word phrases \n",
    "matrix = vect.fit_transform(text) \n",
    "# fit and learn to the vocabulary in the corpus \n",
    "print(len(vect.get_feature_names()))"
   ]
  }
 ],
 "metadata": {
  "kernelspec": {
   "display_name": "Python 3",
   "language": "python",
   "name": "python3"
  },
  "language_info": {
   "codemirror_mode": {
    "name": "ipython",
    "version": 3
   },
   "file_extension": ".py",
   "mimetype": "text/x-python",
   "name": "python",
   "nbconvert_exporter": "python",
   "pygments_lexer": "ipython3",
   "version": "3.12.0"
  }
 },
 "nbformat": 4,
 "nbformat_minor": 2
}
