{
 "cells": [
  {
   "cell_type": "code",
   "execution_count": 2,
   "id": "f9a74b88",
   "metadata": {},
   "outputs": [],
   "source": [
    "import numpy as np"
   ]
  },
  {
   "cell_type": "code",
   "execution_count": 4,
   "id": "46cecc64",
   "metadata": {},
   "outputs": [
    {
     "name": "stdout",
     "output_type": "stream",
     "text": [
      "30.733333333333334\n",
      "31.0\n"
     ]
    }
   ],
   "source": [
    "temp = [31, 32, 32, 31, 28, 29, 31, 38, 32, 31, 30, 29, 30, 31, 26]\n",
    "\n",
    "mean = np.mean(temp)\n",
    "median = np.median(temp)\n",
    "\n",
    "print(mean)\n",
    "print(median)"
   ]
  },
  {
   "cell_type": "code",
   "execution_count": 6,
   "id": "04ac6c74",
   "metadata": {
    "scrolled": true
   },
   "outputs": [
    {
     "name": "stdout",
     "output_type": "stream",
     "text": [
      "2.5157283018817607\n"
     ]
    }
   ],
   "source": [
    "squared_difference = []\n",
    "\n",
    "for each_temp in temp:\n",
    "    difference = (each_temp - mean)**2\n",
    "    squared_difference.append(difference)\n",
    "    \n",
    "avg_diff = np.mean(squared_difference)\n",
    "std = np.sqrt(avg_diff)\n",
    "print(std)"
   ]
  },
  {
   "cell_type": "markdown",
   "id": "7e3a7b95",
   "metadata": {},
   "source": [
    "# Geometric mean"
   ]
  },
  {
   "cell_type": "code",
   "execution_count": 11,
   "id": "275a50ea",
   "metadata": {
    "scrolled": true
   },
   "outputs": [
    {
     "name": "stdout",
     "output_type": "stream",
     "text": [
      "19643184024699587788800\n"
     ]
    },
    {
     "data": {
      "text/plain": [
       "30.63473484374659"
      ]
     },
     "execution_count": 11,
     "metadata": {},
     "output_type": "execute_result"
    }
   ],
   "source": [
    "product = 1\n",
    "num_items = len(temp)\n",
    "for i in temp:\n",
    "    product *= i\n",
    "    \n",
    "squared_product = product**(1 / num_items)\n",
    "squared_product"
   ]
  }
 ],
 "metadata": {
  "kernelspec": {
   "display_name": "Python 3 (ipykernel)",
   "language": "python",
   "name": "python3"
  },
  "language_info": {
   "codemirror_mode": {
    "name": "ipython",
    "version": 3
   },
   "file_extension": ".py",
   "mimetype": "text/x-python",
   "name": "python",
   "nbconvert_exporter": "python",
   "pygments_lexer": "ipython3",
   "version": "3.11.5"
  }
 },
 "nbformat": 4,
 "nbformat_minor": 5
}
