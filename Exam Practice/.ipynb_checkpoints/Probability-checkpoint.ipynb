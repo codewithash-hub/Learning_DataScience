{
 "cells": [
  {
   "cell_type": "code",
   "execution_count": 1,
   "id": "f6ad2fa0",
   "metadata": {},
   "outputs": [],
   "source": [
    "import pandas as pd"
   ]
  },
  {
   "cell_type": "code",
   "execution_count": 2,
   "id": "f9220090",
   "metadata": {},
   "outputs": [
    {
     "name": "stdout",
     "output_type": "stream",
     "text": [
      "        Frequently  Sometimes  Never  Total\n",
      "Male           152        187    432    771\n",
      "Female         127        207    445    779\n",
      "Total          279        394    877   1550\n"
     ]
    }
   ],
   "source": [
    "# Define the data\n",
    "data = {\n",
    "    'Frequently': [152, 127, 279],\n",
    "    'Sometimes': [187, 207, 394],\n",
    "    'Never': [432, 445, 877],\n",
    "    'Total': [771, 779, 1550]\n",
    "}\n",
    "\n",
    "# Define the row and column indices\n",
    "index = ['Male', 'Female', 'Total']\n",
    "columns = ['Frequently', 'Sometimes', 'Never', 'Total']\n",
    "\n",
    "# Create the DataFrame\n",
    "df = pd.DataFrame(data, index=index, columns=columns)\n",
    "\n",
    "# Display the DataFrame\n",
    "print(df)\n"
   ]
  },
  {
   "cell_type": "code",
   "execution_count": 6,
   "id": "a092c7d4",
   "metadata": {},
   "outputs": [
    {
     "name": "stdout",
     "output_type": "stream",
     "text": [
      "The probability that a male will sometimes donate to charity is: 0.1206\n"
     ]
    }
   ],
   "source": [
    "# Count of Male and Sometimes\n",
    "male_sometimes_count = df.at['Male', 'Sometimes']\n",
    "\n",
    "# Total count\n",
    "total_count = df.at['Total', 'Total']\n",
    "\n",
    "# Probability calculation\n",
    "probability_male_sometimes = (male_sometimes_count / total_count)\n",
    "\n",
    "# Display the result\n",
    "print(f\"The probability that a male will sometimes donate to charity is: {probability_male_sometimes:.4f}\")\n"
   ]
  },
  {
   "cell_type": "code",
   "execution_count": 7,
   "id": "808c307d",
   "metadata": {},
   "outputs": [
    {
     "name": "stdout",
     "output_type": "stream",
     "text": [
      "The probability that a female will never donate to charity is: 0.2871\n"
     ]
    }
   ],
   "source": [
    "# Count of Female and Never\n",
    "female_never_count = df.at['Female', 'Never']\n",
    "\n",
    "# Probability calculation\n",
    "probability_female_never = female_never_count / total_count\n",
    "\n",
    "# Display the result\n",
    "print(f\"The probability that a female will never donate to charity is: {probability_female_never:.4f}\")\n"
   ]
  },
  {
   "cell_type": "code",
   "execution_count": 8,
   "id": "c7690dff",
   "metadata": {},
   "outputs": [
    {
     "name": "stdout",
     "output_type": "stream",
     "text": [
      "The probability that someone who does not respond will never donate to charity is: 0.5658\n"
     ]
    }
   ],
   "source": [
    "# Count of Never for those who do not respond\n",
    "no_response_never_count = df.at['Total', 'Never']\n",
    "\n",
    "# Probability calculation\n",
    "probability_no_response_never = no_response_never_count / total_count\n",
    "\n",
    "# Display the result\n",
    "print(f\"The probability that someone who does not respond will never donate to charity is: {probability_no_response_never:.4f}\")\n"
   ]
  },
  {
   "cell_type": "code",
   "execution_count": 9,
   "id": "5435db11",
   "metadata": {},
   "outputs": [
    {
     "name": "stdout",
     "output_type": "stream",
     "text": [
      "The probability that a male or someone else will respond with 'Sometimes' is: 0.3748\n"
     ]
    }
   ],
   "source": [
    "# Count of Sometimes for Male\n",
    "male_sometimes_count = df.at['Male', 'Sometimes']\n",
    "\n",
    "# Count of Sometimes for Total\n",
    "total_sometimes_count = df.at['Total', 'Sometimes']\n",
    "\n",
    "# Probability calculation\n",
    "probability_male_or_sometimes = (male_sometimes_count + total_sometimes_count) / total_count\n",
    "\n",
    "# Display the result\n",
    "print(f\"The probability that a male or someone else will respond with 'Sometimes' is: {probability_male_or_sometimes:.4f}\")\n"
   ]
  },
  {
   "cell_type": "code",
   "execution_count": 10,
   "id": "4a3899cb",
   "metadata": {},
   "outputs": [
    {
     "name": "stdout",
     "output_type": "stream",
     "text": [
      "The probability that someone will respond with 'Sometimes' or 'Never' is: 0.8200\n"
     ]
    }
   ],
   "source": [
    "# Count of Sometimes for Total\n",
    "total_sometimes_count = df.at['Total', 'Sometimes']\n",
    "\n",
    "# Count of Never for Total\n",
    "total_never_count = df.at['Total', 'Never']\n",
    "\n",
    "# Probability calculation\n",
    "probability_sometimes_or_never = (total_sometimes_count + total_never_count) / total_count\n",
    "\n",
    "# Display the result\n",
    "print(f\"The probability that someone will respond with 'Sometimes' or 'Never' is: {probability_sometimes_or_never:.4f}\")\n"
   ]
  }
 ],
 "metadata": {
  "kernelspec": {
   "display_name": "Python 3 (ipykernel)",
   "language": "python",
   "name": "python3"
  },
  "language_info": {
   "codemirror_mode": {
    "name": "ipython",
    "version": 3
   },
   "file_extension": ".py",
   "mimetype": "text/x-python",
   "name": "python",
   "nbconvert_exporter": "python",
   "pygments_lexer": "ipython3",
   "version": "3.11.5"
  }
 },
 "nbformat": 4,
 "nbformat_minor": 5
}
