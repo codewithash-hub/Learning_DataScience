{
 "cells": [
  {
   "cell_type": "code",
   "execution_count": 1,
   "metadata": {},
   "outputs": [],
   "source": [
    "import pandas as pd"
   ]
  },
  {
   "cell_type": "code",
   "execution_count": 28,
   "metadata": {},
   "outputs": [
    {
     "data": {
      "text/html": [
       "<div>\n",
       "<style scoped>\n",
       "    .dataframe tbody tr th:only-of-type {\n",
       "        vertical-align: middle;\n",
       "    }\n",
       "\n",
       "    .dataframe tbody tr th {\n",
       "        vertical-align: top;\n",
       "    }\n",
       "\n",
       "    .dataframe thead th {\n",
       "        text-align: right;\n",
       "    }\n",
       "</style>\n",
       "<table border=\"1\" class=\"dataframe\">\n",
       "  <thead>\n",
       "    <tr style=\"text-align: right;\">\n",
       "      <th></th>\n",
       "      <th>Frequently</th>\n",
       "      <th>Sometimes</th>\n",
       "      <th>Never</th>\n",
       "      <th>Total</th>\n",
       "    </tr>\n",
       "  </thead>\n",
       "  <tbody>\n",
       "    <tr>\n",
       "      <th>Male</th>\n",
       "      <td>152</td>\n",
       "      <td>187</td>\n",
       "      <td>432</td>\n",
       "      <td>771</td>\n",
       "    </tr>\n",
       "    <tr>\n",
       "      <th>Female</th>\n",
       "      <td>127</td>\n",
       "      <td>207</td>\n",
       "      <td>445</td>\n",
       "      <td>779</td>\n",
       "    </tr>\n",
       "    <tr>\n",
       "      <th>Total</th>\n",
       "      <td>279</td>\n",
       "      <td>394</td>\n",
       "      <td>877</td>\n",
       "      <td>1550</td>\n",
       "    </tr>\n",
       "  </tbody>\n",
       "</table>\n",
       "</div>"
      ],
      "text/plain": [
       "        Frequently  Sometimes  Never  Total\n",
       "Male           152        187    432    771\n",
       "Female         127        207    445    779\n",
       "Total          279        394    877   1550"
      ]
     },
     "execution_count": 28,
     "metadata": {},
     "output_type": "execute_result"
    }
   ],
   "source": [
    "data = [\n",
    "    [152, 187, 432, 771],\n",
    "    [127, 207,  445, 779],\n",
    "    [279, 394, 877, 1550]\n",
    "]\n",
    "\n",
    "data = pd.DataFrame(data=data, columns=['Frequently', 'Sometimes', \"Never\", 'Total'], index=('Male', \"Female\", 'Total'))\n",
    "data"
   ]
  },
  {
   "cell_type": "code",
   "execution_count": 37,
   "metadata": {},
   "outputs": [
    {
     "name": "stdout",
     "output_type": "stream",
     "text": [
      "0.47\n",
      "0.51\n",
      "0.18\n",
      "0.47\n",
      "0.47\n"
     ]
    }
   ],
   "source": [
    "print(f\"{data['Sometimes']['Male'] / data['Sometimes']['Total']:.2f}\")\n",
    "print(f\"{data['Never']['Female'] / data['Never']['Total']:.2f}\")\n",
    "print(f\"{data['Frequently']['Total'] / data['Total']['Total']:.2f}\")\n",
    "print(f\"{data['Sometimes']['Male'] / data['Sometimes']['Total']:.2f}\")\n",
    "print(f\"{data['Sometimes']['Male'] / data['Sometimes']['Total']:.2f}\")"
   ]
  }
 ],
 "metadata": {
  "kernelspec": {
   "display_name": "Python 3",
   "language": "python",
   "name": "python3"
  },
  "language_info": {
   "codemirror_mode": {
    "name": "ipython",
    "version": 3
   },
   "file_extension": ".py",
   "mimetype": "text/x-python",
   "name": "python",
   "nbconvert_exporter": "python",
   "pygments_lexer": "ipython3",
   "version": "3.12.0"
  }
 },
 "nbformat": 4,
 "nbformat_minor": 2
}
